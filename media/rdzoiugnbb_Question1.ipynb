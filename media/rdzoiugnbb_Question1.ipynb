{
  "nbformat": 4,
  "nbformat_minor": 0,
  "metadata": {
    "colab": {
      "provenance": []
    },
    "kernelspec": {
      "name": "python3",
      "display_name": "Python 3"
    },
    "language_info": {
      "name": "python"
    }
  },
  "cells": [
    {
      "cell_type": "markdown",
      "source": [
        "Question 1 supart a,b,c,d all in this cell"
      ],
      "metadata": {
        "id": "jXrAKdA4kg9s"
      }
    },
    {
      "cell_type": "code",
      "execution_count": null,
      "metadata": {
        "id": "zHMQF-OTjj1n"
      },
      "outputs": [],
      "source": [
        "%%R\n",
        "data=read.csv('/content/diamonds.csv')\n",
        "head(data)\n",
        "X=data$depth\n",
        "\n",
        "#step1 \n",
        "H0:sigmas>3;\n",
        "H1:sigmasq<=3 #lower one-sided HT of variance\n",
        "\n",
        "#step 2:\n",
        "alpha =0.05\n",
        "#step 3\n",
        "n=length(X);\n",
        "sigmasq_0=3;\n",
        "ss=var(X)\n",
        "\n",
        "test.value=(n-1)*ss/sigmasq_0\n",
        "\n",
        "#step4\n",
        "c.value=qchisq(alpha,n-1)\n",
        "c(test.value,c.value)\n",
        "\n",
        "#1024.8261 791.0184\n",
        "\n",
        "#step5\n",
        "#since test.value > c.value thereforer H0 is accepted"
      ]
    },
    {
      "cell_type": "code",
      "source": [
        "#for plot \n",
        "%%R\n",
        "head(data)\n",
        "mu=mean(diamonds$depth);\n",
        "v=var(diamond$depth)\n",
        "print(c(mu,v))\n",
        "L=mu-3*sd(diamond$depth);\n",
        "U=mu+3*sd(diamond$depth)\n",
        "x=seq(L,U,0.1)\n",
        "pdf=dnorm(x,mu,sd(diamond$depth))\n",
        "plot(x,pdf,type=\"l\",col='red')"
      ],
      "metadata": {
        "id": "1C_WzdM-l4dt"
      },
      "execution_count": null,
      "outputs": []
    },
    {
      "cell_type": "code",
      "source": [],
      "metadata": {
        "id": "DT4gGrr2kga-"
      },
      "execution_count": null,
      "outputs": []
    }
  ]
}